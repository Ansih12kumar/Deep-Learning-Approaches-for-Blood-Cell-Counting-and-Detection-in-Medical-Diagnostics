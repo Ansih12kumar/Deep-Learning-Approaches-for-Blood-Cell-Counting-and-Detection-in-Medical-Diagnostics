{
 "cells": [
  {
   "cell_type": "code",
   "execution_count": 2,
   "id": "ec93f393-15a3-4cd6-8fb9-786f2d4f7e4f",
   "metadata": {},
   "outputs": [
    {
     "name": "stdout",
     "output_type": "stream",
     "text": [
      "Label: 1, Count: 307\n",
      "Label: 0, Count: 3341\n",
      "Label: 2, Count: 304\n",
      "Total unique labels: 3\n"
     ]
    }
   ],
   "source": [
    "import os\n",
    "from collections import Counter\n",
    "\n",
    "txt_dir = r'C:\\Users\\91955\\Downloads\\Complete-Blood-Cell-Count-Dataset-master\\train\\labels'\n",
    "\n",
    "label_counter = Counter()\n",
    "\n",
    "for txt_filename in os.listdir(txt_dir):\n",
    "    if txt_filename.endswith('.txt'):\n",
    "        with open(os.path.join(txt_dir, txt_filename), 'r') as file:\n",
    "            for line in file:\n",
    "                label = line.split()[0]  # Extract the label (first column)\n",
    "                label_counter[label] += 1  # Count the occurrence\n",
    "\n",
    "for label, count in label_counter.items():\n",
    "    print(f\"Label: {label}, Count: {count}\")\n",
    "\n",
    "print(f\"Total unique labels: {len(label_counter)}\")\n"
   ]
  },
  {
   "cell_type": "code",
   "execution_count": null,
   "id": "f3db6df6-865a-4534-8ddf-bc35faee90a2",
   "metadata": {},
   "outputs": [],
   "source": [
    "import os\n",
    "import xml.etree.ElementTree as ET\n",
    "\n",
    "# Define the paths\n",
    "input_dir = r'C:\\Users\\91955\\Downloads\\Complete-Blood-Cell-Count-Dataset-master\\valid\\label'\n",
    "images_dir = r'C:\\Users\\91955\\Downloads\\Complete-Blood-Cell-Count-Dataset-master\\valid\\images'\n",
    "output_dir = r'C:\\Users\\91955\\Downloads\\Complete-Blood-Cell-Count-Dataset-master\\\\valid\\label'\n",
    "\n",
    "class_names = ['RBC', 'WBC', 'Platelets']\n",
    "\n",
    "if not os.path.exists(output_dir):\n",
    "    os.makedirs(output_dir)\n",
    "\n",
    "def convert_bbox_format(xmin, ymin, xmax, ymax, img_width, img_height):\n",
    "    x_center = (xmin + xmax) / 2 / img_width\n",
    "    y_center = (ymin + ymax) / 2 / img_height\n",
    "    width = (xmax - xmin) / img_width\n",
    "    height = (ymax - ymin) / img_height\n",
    "    return x_center, y_center, width, height\n",
    "\n",
    "image_files = [f for f in os.listdir(images_dir) if f.lower().endswith(('.jpg', '.jpeg', '.png'))]\n",
    "\n",
    "for filename in os.listdir(input_dir):\n",
    "    if filename.endswith('.xml'):\n",
    "        xml_file = os.path.join(input_dir, filename)\n",
    "        tree = ET.parse(xml_file)\n",
    "        root = tree.getroot()\n",
    "\n",
    "        image_filename = root.find('filename').text\n",
    "        image_path = os.path.join(images_dir, image_filename)\n",
    "\n",
    "        if not os.path.exists(image_path):\n",
    "            label_file = os.path.join(output_dir, filename.replace('.xml', '.txt'))\n",
    "            with open(label_file, 'w') as f:\n",
    "                pass  \n",
    "            print(f\"Placeholder label file created for missing image: {image_filename}\")\n",
    "            continue\n",
    "\n",
    "        img_width = int(root.find('size/width').text)\n",
    "        img_height = int(root.find('size/height').text)\n",
    "\n",
    "        yolo_annotations = []\n",
    "\n",
    "        for obj in root.findall('object'):\n",
    "            class_name = obj.find('name').text\n",
    "            if class_name in class_names:\n",
    "                class_id = class_names.index(class_name)\n",
    "                xmin = int(obj.find('bndbox/xmin').text)\n",
    "                ymin = int(obj.find('bndbox/ymin').text)\n",
    "                xmax = int(obj.find('bndbox/xmax').text)\n",
    "                ymax = int(obj.find('bndbox/ymax').text)\n",
    "                \n",
    "                x_center, y_center, width, height = convert_bbox_format(xmin, ymin, xmax, ymax, img_width, img_height)\n",
    "                \n",
    "                yolo_annotations.append(f\"{class_id} {x_center} {y_center} {width} {height}\")\n",
    "\n",
    "        if yolo_annotations:\n",
    "            yolo_file = os.path.join(output_dir, filename.replace('.xml', '.txt'))\n",
    "            with open(yolo_file, 'w') as f:\n",
    "                f.write(\"\\n\".join(yolo_annotations))\n",
    "\n",
    "print(\"Conversion completed!\")\n"
   ]
  }
 ],
 "metadata": {
  "kernelspec": {
   "display_name": "Python 3 (ipykernel)",
   "language": "python",
   "name": "python3"
  },
  "language_info": {
   "codemirror_mode": {
    "name": "ipython",
    "version": 3
   },
   "file_extension": ".py",
   "mimetype": "text/x-python",
   "name": "python",
   "nbconvert_exporter": "python",
   "pygments_lexer": "ipython3",
   "version": "3.11.4"
  }
 },
 "nbformat": 4,
 "nbformat_minor": 5
}
