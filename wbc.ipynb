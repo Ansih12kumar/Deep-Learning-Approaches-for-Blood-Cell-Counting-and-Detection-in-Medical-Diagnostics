{
 "cells": [
  {
   "cell_type": "code",
   "execution_count": 1,
   "id": "e3b1cc74-a9e8-4699-8b2b-bcfb27d9c8e9",
   "metadata": {},
   "outputs": [
    {
     "name": "stdout",
     "output_type": "stream",
     "text": [
      "Requirement already satisfied: ultralytics in c:\\users\\91955\\appdata\\local\\programs\\python\\python311\\lib\\site-packages (8.1.42)\n",
      "Requirement already satisfied: matplotlib>=3.3.0 in c:\\users\\91955\\appdata\\local\\programs\\python\\python311\\lib\\site-packages (from ultralytics) (3.8.0)\n",
      "Requirement already satisfied: opencv-python>=4.6.0 in c:\\users\\91955\\appdata\\local\\programs\\python\\python311\\lib\\site-packages (from ultralytics) (4.8.1.78)\n",
      "Requirement already satisfied: pillow>=7.1.2 in c:\\users\\91955\\appdata\\local\\programs\\python\\python311\\lib\\site-packages (from ultralytics) (10.0.1)\n",
      "Requirement already satisfied: pyyaml>=5.3.1 in c:\\users\\91955\\appdata\\local\\programs\\python\\python311\\lib\\site-packages (from ultralytics) (6.0.1)\n",
      "Requirement already satisfied: requests>=2.23.0 in c:\\users\\91955\\appdata\\local\\programs\\python\\python311\\lib\\site-packages (from ultralytics) (2.32.3)\n",
      "Requirement already satisfied: scipy>=1.4.1 in c:\\users\\91955\\appdata\\local\\programs\\python\\python311\\lib\\site-packages (from ultralytics) (1.11.2)\n",
      "Requirement already satisfied: torch>=1.8.0 in c:\\users\\91955\\appdata\\local\\programs\\python\\python311\\lib\\site-packages (from ultralytics) (2.2.0)\n",
      "Requirement already satisfied: torchvision>=0.9.0 in c:\\users\\91955\\appdata\\local\\programs\\python\\python311\\lib\\site-packages (from ultralytics) (0.17.0)\n",
      "Requirement already satisfied: tqdm>=4.64.0 in c:\\users\\91955\\appdata\\local\\programs\\python\\python311\\lib\\site-packages (from ultralytics) (4.66.4)\n",
      "Requirement already satisfied: psutil in c:\\users\\91955\\appdata\\local\\programs\\python\\python311\\lib\\site-packages (from ultralytics) (6.0.0)\n",
      "Requirement already satisfied: py-cpuinfo in c:\\users\\91955\\appdata\\local\\programs\\python\\python311\\lib\\site-packages (from ultralytics) (9.0.0)\n",
      "Requirement already satisfied: thop>=0.1.1 in c:\\users\\91955\\appdata\\local\\programs\\python\\python311\\lib\\site-packages (from ultralytics) (0.1.1.post2209072238)\n",
      "Requirement already satisfied: pandas>=1.1.4 in c:\\users\\91955\\appdata\\local\\programs\\python\\python311\\lib\\site-packages (from ultralytics) (2.0.3)\n",
      "Requirement already satisfied: seaborn>=0.11.0 in c:\\users\\91955\\appdata\\local\\programs\\python\\python311\\lib\\site-packages (from ultralytics) (0.13.0)\n",
      "Requirement already satisfied: contourpy>=1.0.1 in c:\\users\\91955\\appdata\\local\\programs\\python\\python311\\lib\\site-packages (from matplotlib>=3.3.0->ultralytics) (1.1.1)\n",
      "Requirement already satisfied: cycler>=0.10 in c:\\users\\91955\\appdata\\local\\programs\\python\\python311\\lib\\site-packages (from matplotlib>=3.3.0->ultralytics) (0.12.1)\n",
      "Requirement already satisfied: fonttools>=4.22.0 in c:\\users\\91955\\appdata\\local\\programs\\python\\python311\\lib\\site-packages (from matplotlib>=3.3.0->ultralytics) (4.43.1)\n",
      "Requirement already satisfied: kiwisolver>=1.0.1 in c:\\users\\91955\\appdata\\local\\programs\\python\\python311\\lib\\site-packages (from matplotlib>=3.3.0->ultralytics) (1.4.5)\n",
      "Requirement already satisfied: numpy<2,>=1.21 in c:\\users\\91955\\appdata\\local\\programs\\python\\python311\\lib\\site-packages (from matplotlib>=3.3.0->ultralytics) (1.26.4)\n",
      "Requirement already satisfied: packaging>=20.0 in c:\\users\\91955\\appdata\\local\\programs\\python\\python311\\lib\\site-packages (from matplotlib>=3.3.0->ultralytics) (24.1)\n",
      "Requirement already satisfied: pyparsing>=2.3.1 in c:\\users\\91955\\appdata\\local\\programs\\python\\python311\\lib\\site-packages (from matplotlib>=3.3.0->ultralytics) (3.1.1)\n",
      "Requirement already satisfied: python-dateutil>=2.7 in c:\\users\\91955\\appdata\\local\\programs\\python\\python311\\lib\\site-packages (from matplotlib>=3.3.0->ultralytics) (2.8.2)\n",
      "Requirement already satisfied: pytz>=2020.1 in c:\\users\\91955\\appdata\\local\\programs\\python\\python311\\lib\\site-packages (from pandas>=1.1.4->ultralytics) (2023.3)\n",
      "Requirement already satisfied: tzdata>=2022.1 in c:\\users\\91955\\appdata\\local\\programs\\python\\python311\\lib\\site-packages (from pandas>=1.1.4->ultralytics) (2023.3)\n",
      "Requirement already satisfied: charset-normalizer<4,>=2 in c:\\users\\91955\\appdata\\local\\programs\\python\\python311\\lib\\site-packages (from requests>=2.23.0->ultralytics) (3.3.2)\n",
      "Requirement already satisfied: idna<4,>=2.5 in c:\\users\\91955\\appdata\\local\\programs\\python\\python311\\lib\\site-packages (from requests>=2.23.0->ultralytics) (3.7)\n",
      "Requirement already satisfied: urllib3<3,>=1.21.1 in c:\\users\\91955\\appdata\\local\\programs\\python\\python311\\lib\\site-packages (from requests>=2.23.0->ultralytics) (2.2.2)\n",
      "Requirement already satisfied: certifi>=2017.4.17 in c:\\users\\91955\\appdata\\local\\programs\\python\\python311\\lib\\site-packages (from requests>=2.23.0->ultralytics) (2024.6.2)\n",
      "Requirement already satisfied: filelock in c:\\users\\91955\\appdata\\local\\programs\\python\\python311\\lib\\site-packages (from torch>=1.8.0->ultralytics) (3.15.4)\n",
      "Requirement already satisfied: typing-extensions>=4.8.0 in c:\\users\\91955\\appdata\\local\\programs\\python\\python311\\lib\\site-packages (from torch>=1.8.0->ultralytics) (4.12.2)\n",
      "Requirement already satisfied: sympy in c:\\users\\91955\\appdata\\local\\programs\\python\\python311\\lib\\site-packages (from torch>=1.8.0->ultralytics) (1.12.1)\n",
      "Requirement already satisfied: networkx in c:\\users\\91955\\appdata\\local\\programs\\python\\python311\\lib\\site-packages (from torch>=1.8.0->ultralytics) (3.3)\n",
      "Requirement already satisfied: jinja2 in c:\\users\\91955\\appdata\\local\\programs\\python\\python311\\lib\\site-packages (from torch>=1.8.0->ultralytics) (3.1.4)\n",
      "Requirement already satisfied: fsspec in c:\\users\\91955\\appdata\\local\\programs\\python\\python311\\lib\\site-packages (from torch>=1.8.0->ultralytics) (2024.6.1)\n",
      "Requirement already satisfied: colorama in c:\\users\\91955\\appdata\\local\\programs\\python\\python311\\lib\\site-packages (from tqdm>=4.64.0->ultralytics) (0.4.6)\n",
      "Requirement already satisfied: six>=1.5 in c:\\users\\91955\\appdata\\local\\programs\\python\\python311\\lib\\site-packages (from python-dateutil>=2.7->matplotlib>=3.3.0->ultralytics) (1.16.0)\n",
      "Requirement already satisfied: MarkupSafe>=2.0 in c:\\users\\91955\\appdata\\local\\programs\\python\\python311\\lib\\site-packages (from jinja2->torch>=1.8.0->ultralytics) (2.1.5)\n",
      "Requirement already satisfied: mpmath<1.4.0,>=1.1.0 in c:\\users\\91955\\appdata\\local\\programs\\python\\python311\\lib\\site-packages (from sympy->torch>=1.8.0->ultralytics) (1.3.0)\n"
     ]
    },
    {
     "name": "stderr",
     "output_type": "stream",
     "text": [
      "\n",
      "[notice] A new release of pip is available: 24.0 -> 24.2\n",
      "[notice] To update, run: python.exe -m pip install --upgrade pip\n"
     ]
    }
   ],
   "source": [
    "!pip install ultralytics"
   ]
  },
  {
   "cell_type": "code",
   "execution_count": 2,
   "id": "2d4ae156-63e2-438e-98c8-771267eec15d",
   "metadata": {},
   "outputs": [
    {
     "name": "stdout",
     "output_type": "stream",
     "text": [
      "New https://pypi.org/project/ultralytics/8.2.70 available  Update with 'pip install -U ultralytics'\n",
      "Ultralytics YOLOv8.1.42  Python-3.11.4 torch-2.2.0+cpu CPU (11th Gen Intel Core(TM) i5-11320H 3.20GHz)\n",
      "\u001b[34m\u001b[1mengine\\trainer: \u001b[0mtask=detect, mode=train, model=yolov8n.yaml, data=C:\\Users\\91955\\Downloads\\Complete-Blood-Cell-Count-Dataset-master\\data.yaml, epochs=50, time=None, patience=100, batch=16, imgsz=640, save=True, save_period=-1, cache=False, device=None, workers=8, project=None, name=train11, exist_ok=False, pretrained=True, optimizer=auto, verbose=True, seed=0, deterministic=True, single_cls=False, rect=False, cos_lr=False, close_mosaic=10, resume=False, amp=True, fraction=1.0, profile=False, freeze=None, multi_scale=False, overlap_mask=True, mask_ratio=4, dropout=0.0, val=True, split=val, save_json=False, save_hybrid=False, conf=None, iou=0.7, max_det=300, half=False, dnn=False, plots=True, source=None, vid_stride=1, stream_buffer=False, visualize=False, augment=False, agnostic_nms=False, classes=None, retina_masks=False, embed=None, show=False, save_frames=False, save_txt=False, save_conf=False, save_crop=False, show_labels=True, show_conf=True, show_boxes=True, line_width=None, format=torchscript, keras=False, optimize=False, int8=False, dynamic=False, simplify=False, opset=None, workspace=4, nms=False, lr0=0.01, lrf=0.01, momentum=0.937, weight_decay=0.0005, warmup_epochs=3.0, warmup_momentum=0.8, warmup_bias_lr=0.1, box=7.5, cls=0.5, dfl=1.5, pose=12.0, kobj=1.0, label_smoothing=0.0, nbs=64, hsv_h=0.015, hsv_s=0.7, hsv_v=0.4, degrees=0.0, translate=0.1, scale=0.5, shear=0.0, perspective=0.0, flipud=0.0, fliplr=0.5, bgr=0.0, mosaic=1.0, mixup=0.0, copy_paste=0.0, auto_augment=randaugment, erasing=0.4, crop_fraction=1.0, cfg=None, tracker=botsort.yaml, save_dir=C:\\Users\\91955\\Fracture_Detection_Improved_YOLOv8\\runs\\detect\\train11\n",
      "Overriding model.yaml nc=80 with nc=3\n",
      "\n",
      "                   from  n    params  module                                       arguments                     \n",
      "  0                  -1  1       464  ultralytics.nn.modules.conv.Conv             [3, 16, 3, 2]                 \n",
      "  1                  -1  1      4672  ultralytics.nn.modules.conv.Conv             [16, 32, 3, 2]                \n",
      "  2                  -1  1      7360  ultralytics.nn.modules.block.C2f             [32, 32, 1, True]             \n",
      "  3                  -1  1     18560  ultralytics.nn.modules.conv.Conv             [32, 64, 3, 2]                \n",
      "  4                  -1  2     49664  ultralytics.nn.modules.block.C2f             [64, 64, 2, True]             \n",
      "  5                  -1  1     73984  ultralytics.nn.modules.conv.Conv             [64, 128, 3, 2]               \n",
      "  6                  -1  2    197632  ultralytics.nn.modules.block.C2f             [128, 128, 2, True]           \n",
      "  7                  -1  1    295424  ultralytics.nn.modules.conv.Conv             [128, 256, 3, 2]              \n",
      "  8                  -1  1    460288  ultralytics.nn.modules.block.C2f             [256, 256, 1, True]           \n",
      "  9                  -1  1    164608  ultralytics.nn.modules.block.SPPF            [256, 256, 5]                 \n",
      " 10                  -1  1         0  torch.nn.modules.upsampling.Upsample         [None, 2, 'nearest']          \n",
      " 11             [-1, 6]  1         0  ultralytics.nn.modules.conv.Concat           [1]                           \n",
      " 12                  -1  1    148224  ultralytics.nn.modules.block.C2f             [384, 128, 1]                 \n",
      " 13                  -1  1         0  torch.nn.modules.upsampling.Upsample         [None, 2, 'nearest']          \n",
      " 14             [-1, 4]  1         0  ultralytics.nn.modules.conv.Concat           [1]                           \n",
      " 15                  -1  1     37248  ultralytics.nn.modules.block.C2f             [192, 64, 1]                  \n",
      " 16                  -1  1     36992  ultralytics.nn.modules.conv.Conv             [64, 64, 3, 2]                \n",
      " 17            [-1, 12]  1         0  ultralytics.nn.modules.conv.Concat           [1]                           \n",
      " 18                  -1  1    123648  ultralytics.nn.modules.block.C2f             [192, 128, 1]                 \n",
      " 19                  -1  1    147712  ultralytics.nn.modules.conv.Conv             [128, 128, 3, 2]              \n",
      " 20             [-1, 9]  1         0  ultralytics.nn.modules.conv.Concat           [1]                           \n",
      " 21                  -1  1    493056  ultralytics.nn.modules.block.C2f             [384, 256, 1]                 \n",
      " 22        [15, 18, 21]  1    751897  ultralytics.nn.modules.head.Detect           [3, [64, 128, 256]]           \n",
      "YOLOv8n summary: 225 layers, 3011433 parameters, 3011417 gradients, 8.2 GFLOPs\n",
      "\n",
      "\u001b[34m\u001b[1mTensorBoard: \u001b[0mStart with 'tensorboard --logdir C:\\Users\\91955\\Fracture_Detection_Improved_YOLOv8\\runs\\detect\\train11', view at http://localhost:6006/\n",
      "Freezing layer 'model.22.dfl.conv.weight'\n"
     ]
    },
    {
     "name": "stderr",
     "output_type": "stream",
     "text": [
      "\u001b[34m\u001b[1mtrain: \u001b[0mScanning C:\\Users\\91955\\Downloads\\Complete-Blood-Cell-Count-Dataset-master\\train\\labels.cache... 300 images, 0 b\u001b[0m\n",
      "\u001b[34m\u001b[1mval: \u001b[0mScanning C:\\Users\\91955\\Downloads\\Complete-Blood-Cell-Count-Dataset-master\\valid\\labels.cache... 60 images, 0 back\u001b[0m\n"
     ]
    },
    {
     "name": "stdout",
     "output_type": "stream",
     "text": [
      "Plotting labels to C:\\Users\\91955\\Fracture_Detection_Improved_YOLOv8\\runs\\detect\\train11\\labels.jpg... \n",
      "\u001b[34m\u001b[1moptimizer:\u001b[0m 'optimizer=auto' found, ignoring 'lr0=0.01' and 'momentum=0.937' and determining best 'optimizer', 'lr0' and 'momentum' automatically... \n",
      "\u001b[34m\u001b[1moptimizer:\u001b[0m AdamW(lr=0.001429, momentum=0.9) with parameter groups 57 weight(decay=0.0), 64 weight(decay=0.0005), 63 bias(decay=0.0)\n",
      "\u001b[34m\u001b[1mTensorBoard: \u001b[0mmodel graph visualization added \n",
      "Image sizes 640 train, 640 val\n",
      "Using 0 dataloader workers\n",
      "Logging results to \u001b[1mC:\\Users\\91955\\Fracture_Detection_Improved_YOLOv8\\runs\\detect\\train11\u001b[0m\n",
      "Starting training for 50 epochs...\n",
      "\n",
      "      Epoch    GPU_mem   box_loss   cls_loss   dfl_loss  Instances       Size\n"
     ]
    },
    {
     "name": "stderr",
     "output_type": "stream",
     "text": [
      "       1/50         0G      3.538      4.123      4.219        371        640: 100%|██████████| 19/19 [01:59<00:00,  6.\n",
      "                 Class     Images  Instances      Box(P          R      mAP50  mAP50-95): 100%|██████████| 2/2 [00:08<0"
     ]
    },
    {
     "name": "stdout",
     "output_type": "stream",
     "text": [
      "                   all         60        812   0.000705     0.0264   0.000418   7.73e-05\n"
     ]
    },
    {
     "name": "stderr",
     "output_type": "stream",
     "text": [
      "\n"
     ]
    },
    {
     "name": "stdout",
     "output_type": "stream",
     "text": [
      "\n",
      "      Epoch    GPU_mem   box_loss   cls_loss   dfl_loss  Instances       Size\n"
     ]
    },
    {
     "name": "stderr",
     "output_type": "stream",
     "text": [
      "       2/50         0G      3.338      3.681      4.095        333        640: 100%|██████████| 19/19 [01:58<00:00,  6.\n",
      "                 Class     Images  Instances      Box(P          R      mAP50  mAP50-95): 100%|██████████| 2/2 [00:09<0"
     ]
    },
    {
     "name": "stdout",
     "output_type": "stream",
     "text": [
      "                   all         60        812    0.00114     0.0408   0.000757   0.000115\n"
     ]
    },
    {
     "name": "stderr",
     "output_type": "stream",
     "text": [
      "\n"
     ]
    },
    {
     "name": "stdout",
     "output_type": "stream",
     "text": [
      "\n",
      "      Epoch    GPU_mem   box_loss   cls_loss   dfl_loss  Instances       Size\n"
     ]
    },
    {
     "name": "stderr",
     "output_type": "stream",
     "text": [
      "       3/50         0G      2.904      2.962      3.774        299        640: 100%|██████████| 19/19 [01:55<00:00,  6.\n",
      "                 Class     Images  Instances      Box(P          R      mAP50  mAP50-95): 100%|██████████| 2/2 [00:07<0"
     ]
    },
    {
     "name": "stdout",
     "output_type": "stream",
     "text": [
      "                   all         60        812    0.00232      0.055     0.0015   0.000335\n"
     ]
    },
    {
     "name": "stderr",
     "output_type": "stream",
     "text": [
      "\n"
     ]
    },
    {
     "name": "stdout",
     "output_type": "stream",
     "text": [
      "\n",
      "      Epoch    GPU_mem   box_loss   cls_loss   dfl_loss  Instances       Size\n"
     ]
    },
    {
     "name": "stderr",
     "output_type": "stream",
     "text": [
      "       4/50         0G      2.661      2.429      3.389        297        640: 100%|██████████| 19/19 [01:52<00:00,  5.\n",
      "                 Class     Images  Instances      Box(P          R      mAP50  mAP50-95): 100%|██████████| 2/2 [00:08<0"
     ]
    },
    {
     "name": "stdout",
     "output_type": "stream",
     "text": [
      "                   all         60        812      0.014      0.234     0.0113    0.00497\n"
     ]
    },
    {
     "name": "stderr",
     "output_type": "stream",
     "text": [
      "\n"
     ]
    },
    {
     "name": "stdout",
     "output_type": "stream",
     "text": [
      "\n",
      "      Epoch    GPU_mem   box_loss   cls_loss   dfl_loss  Instances       Size\n"
     ]
    },
    {
     "name": "stderr",
     "output_type": "stream",
     "text": [
      "       5/50         0G      2.451      2.219      3.091        276        640: 100%|██████████| 19/19 [01:53<00:00,  5.\n",
      "                 Class     Images  Instances      Box(P          R      mAP50  mAP50-95): 100%|██████████| 2/2 [00:07<0"
     ]
    },
    {
     "name": "stdout",
     "output_type": "stream",
     "text": [
      "                   all         60        812     0.0383      0.069     0.0292     0.0138\n"
     ]
    },
    {
     "name": "stderr",
     "output_type": "stream",
     "text": [
      "\n"
     ]
    },
    {
     "name": "stdout",
     "output_type": "stream",
     "text": [
      "\n",
      "      Epoch    GPU_mem   box_loss   cls_loss   dfl_loss  Instances       Size\n"
     ]
    },
    {
     "name": "stderr",
     "output_type": "stream",
     "text": [
      "       6/50         0G      2.358      2.154      2.899        297        640: 100%|██████████| 19/19 [01:52<00:00,  5.\n",
      "                 Class     Images  Instances      Box(P          R      mAP50  mAP50-95): 100%|██████████| 2/2 [00:08<0"
     ]
    },
    {
     "name": "stdout",
     "output_type": "stream",
     "text": [
      "                   all         60        812      0.118       0.35      0.223      0.103\n"
     ]
    },
    {
     "name": "stderr",
     "output_type": "stream",
     "text": [
      "\n"
     ]
    },
    {
     "name": "stdout",
     "output_type": "stream",
     "text": [
      "\n",
      "      Epoch    GPU_mem   box_loss   cls_loss   dfl_loss  Instances       Size\n"
     ]
    },
    {
     "name": "stderr",
     "output_type": "stream",
     "text": [
      "       7/50         0G       2.22      2.092      2.727        264        640: 100%|██████████| 19/19 [01:51<00:00,  5.\n",
      "                 Class     Images  Instances      Box(P          R      mAP50  mAP50-95): 100%|██████████| 2/2 [00:07<0"
     ]
    },
    {
     "name": "stdout",
     "output_type": "stream",
     "text": [
      "                   all         60        812      0.803      0.314      0.421      0.247\n"
     ]
    },
    {
     "name": "stderr",
     "output_type": "stream",
     "text": [
      "\n"
     ]
    },
    {
     "name": "stdout",
     "output_type": "stream",
     "text": [
      "\n",
      "      Epoch    GPU_mem   box_loss   cls_loss   dfl_loss  Instances       Size\n"
     ]
    },
    {
     "name": "stderr",
     "output_type": "stream",
     "text": [
      "       8/50         0G      2.139      1.883      2.595        271        640: 100%|██████████| 19/19 [01:50<00:00,  5.\n",
      "                 Class     Images  Instances      Box(P          R      mAP50  mAP50-95): 100%|██████████| 2/2 [00:07<0"
     ]
    },
    {
     "name": "stdout",
     "output_type": "stream",
     "text": [
      "                   all         60        812      0.612      0.447      0.413      0.204\n"
     ]
    },
    {
     "name": "stderr",
     "output_type": "stream",
     "text": [
      "\n"
     ]
    },
    {
     "name": "stdout",
     "output_type": "stream",
     "text": [
      "\n",
      "      Epoch    GPU_mem   box_loss   cls_loss   dfl_loss  Instances       Size\n"
     ]
    },
    {
     "name": "stderr",
     "output_type": "stream",
     "text": [
      "       9/50         0G      2.015      1.759      2.435        269        640: 100%|██████████| 19/19 [01:51<00:00,  5.\n",
      "                 Class     Images  Instances      Box(P          R      mAP50  mAP50-95): 100%|██████████| 2/2 [00:07<0"
     ]
    },
    {
     "name": "stdout",
     "output_type": "stream",
     "text": [
      "                   all         60        812      0.174      0.553      0.245      0.119\n"
     ]
    },
    {
     "name": "stderr",
     "output_type": "stream",
     "text": [
      "\n"
     ]
    },
    {
     "name": "stdout",
     "output_type": "stream",
     "text": [
      "\n",
      "      Epoch    GPU_mem   box_loss   cls_loss   dfl_loss  Instances       Size\n"
     ]
    },
    {
     "name": "stderr",
     "output_type": "stream",
     "text": [
      "      10/50         0G       1.88      1.661      2.323        330        640: 100%|██████████| 19/19 [01:50<00:00,  5.\n",
      "                 Class     Images  Instances      Box(P          R      mAP50  mAP50-95): 100%|██████████| 2/2 [00:07<0"
     ]
    },
    {
     "name": "stdout",
     "output_type": "stream",
     "text": [
      "                   all         60        812      0.713      0.461      0.495      0.276\n"
     ]
    },
    {
     "name": "stderr",
     "output_type": "stream",
     "text": [
      "\n"
     ]
    },
    {
     "name": "stdout",
     "output_type": "stream",
     "text": [
      "\n",
      "      Epoch    GPU_mem   box_loss   cls_loss   dfl_loss  Instances       Size\n"
     ]
    },
    {
     "name": "stderr",
     "output_type": "stream",
     "text": [
      "      11/50         0G      1.818      1.572      2.221        322        640: 100%|██████████| 19/19 [01:52<00:00,  5.\n",
      "                 Class     Images  Instances      Box(P          R      mAP50  mAP50-95): 100%|██████████| 2/2 [00:07<0"
     ]
    },
    {
     "name": "stdout",
     "output_type": "stream",
     "text": [
      "                   all         60        812      0.488      0.685      0.638      0.322\n"
     ]
    },
    {
     "name": "stderr",
     "output_type": "stream",
     "text": [
      "\n"
     ]
    },
    {
     "name": "stdout",
     "output_type": "stream",
     "text": [
      "\n",
      "      Epoch    GPU_mem   box_loss   cls_loss   dfl_loss  Instances       Size\n"
     ]
    },
    {
     "name": "stderr",
     "output_type": "stream",
     "text": [
      "      12/50         0G       1.72      1.457      2.123        247        640: 100%|██████████| 19/19 [01:51<00:00,  5.\n",
      "                 Class     Images  Instances      Box(P          R      mAP50  mAP50-95): 100%|██████████| 2/2 [00:07<0"
     ]
    },
    {
     "name": "stdout",
     "output_type": "stream",
     "text": [
      "                   all         60        812       0.74      0.668      0.719      0.413\n"
     ]
    },
    {
     "name": "stderr",
     "output_type": "stream",
     "text": [
      "\n"
     ]
    },
    {
     "name": "stdout",
     "output_type": "stream",
     "text": [
      "\n",
      "      Epoch    GPU_mem   box_loss   cls_loss   dfl_loss  Instances       Size\n"
     ]
    },
    {
     "name": "stderr",
     "output_type": "stream",
     "text": [
      "      13/50         0G      1.679       1.42      2.047        295        640: 100%|██████████| 19/19 [01:50<00:00,  5.\n",
      "                 Class     Images  Instances      Box(P          R      mAP50  mAP50-95): 100%|██████████| 2/2 [00:07<0"
     ]
    },
    {
     "name": "stdout",
     "output_type": "stream",
     "text": [
      "                   all         60        812      0.679      0.731      0.734      0.414\n"
     ]
    },
    {
     "name": "stderr",
     "output_type": "stream",
     "text": [
      "\n"
     ]
    },
    {
     "name": "stdout",
     "output_type": "stream",
     "text": [
      "\n",
      "      Epoch    GPU_mem   box_loss   cls_loss   dfl_loss  Instances       Size\n"
     ]
    },
    {
     "name": "stderr",
     "output_type": "stream",
     "text": [
      "      14/50         0G      1.648      1.409      2.042        401        640: 100%|██████████| 19/19 [01:53<00:00,  5.\n",
      "                 Class     Images  Instances      Box(P          R      mAP50  mAP50-95): 100%|██████████| 2/2 [00:07<0"
     ]
    },
    {
     "name": "stdout",
     "output_type": "stream",
     "text": [
      "                   all         60        812       0.64      0.709      0.772      0.446\n"
     ]
    },
    {
     "name": "stderr",
     "output_type": "stream",
     "text": [
      "\n"
     ]
    },
    {
     "name": "stdout",
     "output_type": "stream",
     "text": [
      "\n",
      "      Epoch    GPU_mem   box_loss   cls_loss   dfl_loss  Instances       Size\n"
     ]
    },
    {
     "name": "stderr",
     "output_type": "stream",
     "text": [
      "      15/50         0G      1.577      1.374      1.969        324        640: 100%|██████████| 19/19 [01:53<00:00,  5.\n",
      "                 Class     Images  Instances      Box(P          R      mAP50  mAP50-95): 100%|██████████| 2/2 [00:07<0"
     ]
    },
    {
     "name": "stdout",
     "output_type": "stream",
     "text": [
      "                   all         60        812      0.684      0.711      0.763      0.412\n"
     ]
    },
    {
     "name": "stderr",
     "output_type": "stream",
     "text": [
      "\n"
     ]
    },
    {
     "name": "stdout",
     "output_type": "stream",
     "text": [
      "\n",
      "      Epoch    GPU_mem   box_loss   cls_loss   dfl_loss  Instances       Size\n"
     ]
    },
    {
     "name": "stderr",
     "output_type": "stream",
     "text": [
      "      16/50         0G      1.596      1.357      1.996        282        640: 100%|██████████| 19/19 [01:54<00:00,  6.\n",
      "                 Class     Images  Instances      Box(P          R      mAP50  mAP50-95): 100%|██████████| 2/2 [00:07<0"
     ]
    },
    {
     "name": "stdout",
     "output_type": "stream",
     "text": [
      "                   all         60        812      0.659      0.701      0.772      0.416\n"
     ]
    },
    {
     "name": "stderr",
     "output_type": "stream",
     "text": [
      "\n"
     ]
    },
    {
     "name": "stdout",
     "output_type": "stream",
     "text": [
      "\n",
      "      Epoch    GPU_mem   box_loss   cls_loss   dfl_loss  Instances       Size\n"
     ]
    },
    {
     "name": "stderr",
     "output_type": "stream",
     "text": [
      "      17/50         0G       1.57      1.318      1.964        310        640: 100%|██████████| 19/19 [01:51<00:00,  5.\n",
      "                 Class     Images  Instances      Box(P          R      mAP50  mAP50-95): 100%|██████████| 2/2 [00:07<0"
     ]
    },
    {
     "name": "stdout",
     "output_type": "stream",
     "text": [
      "                   all         60        812      0.745      0.757      0.798      0.469\n"
     ]
    },
    {
     "name": "stderr",
     "output_type": "stream",
     "text": [
      "\n"
     ]
    },
    {
     "name": "stdout",
     "output_type": "stream",
     "text": [
      "\n",
      "      Epoch    GPU_mem   box_loss   cls_loss   dfl_loss  Instances       Size\n"
     ]
    },
    {
     "name": "stderr",
     "output_type": "stream",
     "text": [
      "      18/50         0G      1.519      1.319      1.951        295        640: 100%|██████████| 19/19 [01:50<00:00,  5.\n",
      "                 Class     Images  Instances      Box(P          R      mAP50  mAP50-95): 100%|██████████| 2/2 [00:07<0"
     ]
    },
    {
     "name": "stdout",
     "output_type": "stream",
     "text": [
      "                   all         60        812      0.723      0.785      0.815      0.492\n"
     ]
    },
    {
     "name": "stderr",
     "output_type": "stream",
     "text": [
      "\n"
     ]
    },
    {
     "name": "stdout",
     "output_type": "stream",
     "text": [
      "\n",
      "      Epoch    GPU_mem   box_loss   cls_loss   dfl_loss  Instances       Size\n"
     ]
    },
    {
     "name": "stderr",
     "output_type": "stream",
     "text": [
      "      19/50         0G      1.511      1.323      1.938        263        640: 100%|██████████| 19/19 [01:50<00:00,  5.\n",
      "                 Class     Images  Instances      Box(P          R      mAP50  mAP50-95): 100%|██████████| 2/2 [00:06<0"
     ]
    },
    {
     "name": "stdout",
     "output_type": "stream",
     "text": [
      "                   all         60        812      0.794      0.752      0.822      0.496\n"
     ]
    },
    {
     "name": "stderr",
     "output_type": "stream",
     "text": [
      "\n"
     ]
    },
    {
     "name": "stdout",
     "output_type": "stream",
     "text": [
      "\n",
      "      Epoch    GPU_mem   box_loss   cls_loss   dfl_loss  Instances       Size\n"
     ]
    },
    {
     "name": "stderr",
     "output_type": "stream",
     "text": [
      "      20/50         0G      1.488      1.264      1.894        246        640: 100%|██████████| 19/19 [01:51<00:00,  5.\n",
      "                 Class     Images  Instances      Box(P          R      mAP50  mAP50-95): 100%|██████████| 2/2 [00:07<0"
     ]
    },
    {
     "name": "stdout",
     "output_type": "stream",
     "text": [
      "                   all         60        812       0.73      0.786      0.801      0.474\n"
     ]
    },
    {
     "name": "stderr",
     "output_type": "stream",
     "text": [
      "\n"
     ]
    },
    {
     "name": "stdout",
     "output_type": "stream",
     "text": [
      "\n",
      "      Epoch    GPU_mem   box_loss   cls_loss   dfl_loss  Instances       Size\n"
     ]
    },
    {
     "name": "stderr",
     "output_type": "stream",
     "text": [
      "      21/50         0G      1.487      1.253      1.868        301        640: 100%|██████████| 19/19 [01:51<00:00,  5.\n",
      "                 Class     Images  Instances      Box(P          R      mAP50  mAP50-95): 100%|██████████| 2/2 [00:07<0"
     ]
    },
    {
     "name": "stdout",
     "output_type": "stream",
     "text": [
      "                   all         60        812      0.762        0.8      0.806       0.49\n"
     ]
    },
    {
     "name": "stderr",
     "output_type": "stream",
     "text": [
      "\n"
     ]
    },
    {
     "name": "stdout",
     "output_type": "stream",
     "text": [
      "\n",
      "      Epoch    GPU_mem   box_loss   cls_loss   dfl_loss  Instances       Size\n"
     ]
    },
    {
     "name": "stderr",
     "output_type": "stream",
     "text": [
      "      22/50         0G       1.45      1.211      1.833        323        640: 100%|██████████| 19/19 [01:51<00:00,  5.\n",
      "                 Class     Images  Instances      Box(P          R      mAP50  mAP50-95): 100%|██████████| 2/2 [00:06<0"
     ]
    },
    {
     "name": "stdout",
     "output_type": "stream",
     "text": [
      "                   all         60        812      0.808      0.777      0.843      0.525\n"
     ]
    },
    {
     "name": "stderr",
     "output_type": "stream",
     "text": [
      "\n"
     ]
    },
    {
     "name": "stdout",
     "output_type": "stream",
     "text": [
      "\n",
      "      Epoch    GPU_mem   box_loss   cls_loss   dfl_loss  Instances       Size\n"
     ]
    },
    {
     "name": "stderr",
     "output_type": "stream",
     "text": [
      "      23/50         0G       1.43      1.187      1.814        309        640: 100%|██████████| 19/19 [01:51<00:00,  5.\n",
      "                 Class     Images  Instances      Box(P          R      mAP50  mAP50-95): 100%|██████████| 2/2 [00:07<0"
     ]
    },
    {
     "name": "stdout",
     "output_type": "stream",
     "text": [
      "                   all         60        812      0.727      0.811      0.835      0.504\n"
     ]
    },
    {
     "name": "stderr",
     "output_type": "stream",
     "text": [
      "\n"
     ]
    },
    {
     "name": "stdout",
     "output_type": "stream",
     "text": [
      "\n",
      "      Epoch    GPU_mem   box_loss   cls_loss   dfl_loss  Instances       Size\n"
     ]
    },
    {
     "name": "stderr",
     "output_type": "stream",
     "text": [
      "      24/50         0G      1.441      1.197       1.81        210        640: 100%|██████████| 19/19 [01:57<00:00,  6.\n",
      "                 Class     Images  Instances      Box(P          R      mAP50  mAP50-95): 100%|██████████| 2/2 [00:07<0"
     ]
    },
    {
     "name": "stdout",
     "output_type": "stream",
     "text": [
      "                   all         60        812      0.759      0.885      0.843       0.53\n"
     ]
    },
    {
     "name": "stderr",
     "output_type": "stream",
     "text": [
      "\n"
     ]
    },
    {
     "name": "stdout",
     "output_type": "stream",
     "text": [
      "\n",
      "      Epoch    GPU_mem   box_loss   cls_loss   dfl_loss  Instances       Size\n"
     ]
    },
    {
     "name": "stderr",
     "output_type": "stream",
     "text": [
      "      25/50         0G      1.396      1.164      1.769        286        640: 100%|██████████| 19/19 [02:01<00:00,  6.\n",
      "                 Class     Images  Instances      Box(P          R      mAP50  mAP50-95): 100%|██████████| 2/2 [00:08<0"
     ]
    },
    {
     "name": "stdout",
     "output_type": "stream",
     "text": [
      "                   all         60        812      0.766      0.839      0.845      0.515\n"
     ]
    },
    {
     "name": "stderr",
     "output_type": "stream",
     "text": [
      "\n"
     ]
    },
    {
     "name": "stdout",
     "output_type": "stream",
     "text": [
      "\n",
      "      Epoch    GPU_mem   box_loss   cls_loss   dfl_loss  Instances       Size\n"
     ]
    },
    {
     "name": "stderr",
     "output_type": "stream",
     "text": [
      "      26/50         0G      1.395      1.142      1.762        282        640: 100%|██████████| 19/19 [02:06<00:00,  6.\n",
      "                 Class     Images  Instances      Box(P          R      mAP50  mAP50-95): 100%|██████████| 2/2 [00:08<0"
     ]
    },
    {
     "name": "stdout",
     "output_type": "stream",
     "text": [
      "                   all         60        812      0.785      0.802      0.821      0.491\n"
     ]
    },
    {
     "name": "stderr",
     "output_type": "stream",
     "text": [
      "\n"
     ]
    },
    {
     "name": "stdout",
     "output_type": "stream",
     "text": [
      "\n",
      "      Epoch    GPU_mem   box_loss   cls_loss   dfl_loss  Instances       Size\n"
     ]
    },
    {
     "name": "stderr",
     "output_type": "stream",
     "text": [
      "      27/50         0G      1.429      1.205      1.816        225        640: 100%|██████████| 19/19 [02:06<00:00,  6.\n",
      "                 Class     Images  Instances      Box(P          R      mAP50  mAP50-95): 100%|██████████| 2/2 [00:08<0"
     ]
    },
    {
     "name": "stdout",
     "output_type": "stream",
     "text": [
      "                   all         60        812      0.767      0.837      0.863      0.538\n"
     ]
    },
    {
     "name": "stderr",
     "output_type": "stream",
     "text": [
      "\n"
     ]
    },
    {
     "name": "stdout",
     "output_type": "stream",
     "text": [
      "\n",
      "      Epoch    GPU_mem   box_loss   cls_loss   dfl_loss  Instances       Size\n"
     ]
    },
    {
     "name": "stderr",
     "output_type": "stream",
     "text": [
      "      28/50         0G      1.411      1.154      1.792        261        640: 100%|██████████| 19/19 [02:05<00:00,  6.\n",
      "                 Class     Images  Instances      Box(P          R      mAP50  mAP50-95): 100%|██████████| 2/2 [00:08<0"
     ]
    },
    {
     "name": "stdout",
     "output_type": "stream",
     "text": [
      "                   all         60        812      0.775      0.767      0.813      0.499\n"
     ]
    },
    {
     "name": "stderr",
     "output_type": "stream",
     "text": [
      "\n"
     ]
    },
    {
     "name": "stdout",
     "output_type": "stream",
     "text": [
      "\n",
      "      Epoch    GPU_mem   box_loss   cls_loss   dfl_loss  Instances       Size\n"
     ]
    },
    {
     "name": "stderr",
     "output_type": "stream",
     "text": [
      "      29/50         0G      1.386       1.16      1.787        260        640: 100%|██████████| 19/19 [02:04<00:00,  6.\n",
      "                 Class     Images  Instances      Box(P          R      mAP50  mAP50-95): 100%|██████████| 2/2 [00:08<0"
     ]
    },
    {
     "name": "stdout",
     "output_type": "stream",
     "text": [
      "                   all         60        812      0.754      0.824      0.844      0.528\n"
     ]
    },
    {
     "name": "stderr",
     "output_type": "stream",
     "text": [
      "\n"
     ]
    },
    {
     "name": "stdout",
     "output_type": "stream",
     "text": [
      "\n",
      "      Epoch    GPU_mem   box_loss   cls_loss   dfl_loss  Instances       Size\n"
     ]
    },
    {
     "name": "stderr",
     "output_type": "stream",
     "text": [
      "      30/50         0G      1.387      1.149       1.76        400        640: 100%|██████████| 19/19 [02:03<00:00,  6.\n",
      "                 Class     Images  Instances      Box(P          R      mAP50  mAP50-95): 100%|██████████| 2/2 [00:08<0"
     ]
    },
    {
     "name": "stdout",
     "output_type": "stream",
     "text": [
      "                   all         60        812      0.765      0.877      0.869      0.538\n"
     ]
    },
    {
     "name": "stderr",
     "output_type": "stream",
     "text": [
      "\n"
     ]
    },
    {
     "name": "stdout",
     "output_type": "stream",
     "text": [
      "\n",
      "      Epoch    GPU_mem   box_loss   cls_loss   dfl_loss  Instances       Size\n"
     ]
    },
    {
     "name": "stderr",
     "output_type": "stream",
     "text": [
      "      31/50         0G      1.357      1.124      1.734        310        640: 100%|██████████| 19/19 [02:06<00:00,  6.\n",
      "                 Class     Images  Instances      Box(P          R      mAP50  mAP50-95): 100%|██████████| 2/2 [00:08<0"
     ]
    },
    {
     "name": "stdout",
     "output_type": "stream",
     "text": [
      "                   all         60        812      0.735      0.843      0.855      0.536\n"
     ]
    },
    {
     "name": "stderr",
     "output_type": "stream",
     "text": [
      "\n"
     ]
    },
    {
     "name": "stdout",
     "output_type": "stream",
     "text": [
      "\n",
      "      Epoch    GPU_mem   box_loss   cls_loss   dfl_loss  Instances       Size\n"
     ]
    },
    {
     "name": "stderr",
     "output_type": "stream",
     "text": [
      "      32/50         0G      1.378      1.094      1.734        282        640: 100%|██████████| 19/19 [02:06<00:00,  6.\n",
      "                 Class     Images  Instances      Box(P          R      mAP50  mAP50-95): 100%|██████████| 2/2 [00:07<0"
     ]
    },
    {
     "name": "stdout",
     "output_type": "stream",
     "text": [
      "                   all         60        812       0.77       0.87      0.842      0.529\n"
     ]
    },
    {
     "name": "stderr",
     "output_type": "stream",
     "text": [
      "\n"
     ]
    },
    {
     "name": "stdout",
     "output_type": "stream",
     "text": [
      "\n",
      "      Epoch    GPU_mem   box_loss   cls_loss   dfl_loss  Instances       Size\n"
     ]
    },
    {
     "name": "stderr",
     "output_type": "stream",
     "text": [
      "      33/50         0G      1.322      1.081      1.709        306        640: 100%|██████████| 19/19 [02:03<00:00,  6.\n",
      "                 Class     Images  Instances      Box(P          R      mAP50  mAP50-95): 100%|██████████| 2/2 [00:07<0"
     ]
    },
    {
     "name": "stdout",
     "output_type": "stream",
     "text": [
      "                   all         60        812      0.788       0.87      0.855      0.545\n"
     ]
    },
    {
     "name": "stderr",
     "output_type": "stream",
     "text": [
      "\n"
     ]
    },
    {
     "name": "stdout",
     "output_type": "stream",
     "text": [
      "\n",
      "      Epoch    GPU_mem   box_loss   cls_loss   dfl_loss  Instances       Size\n"
     ]
    },
    {
     "name": "stderr",
     "output_type": "stream",
     "text": [
      "      34/50         0G      1.365      1.104      1.746        308        640: 100%|██████████| 19/19 [01:59<00:00,  6.\n",
      "                 Class     Images  Instances      Box(P          R      mAP50  mAP50-95): 100%|██████████| 2/2 [00:09<0"
     ]
    },
    {
     "name": "stdout",
     "output_type": "stream",
     "text": [
      "                   all         60        812      0.763      0.913      0.877      0.556\n"
     ]
    },
    {
     "name": "stderr",
     "output_type": "stream",
     "text": [
      "\n"
     ]
    },
    {
     "name": "stdout",
     "output_type": "stream",
     "text": [
      "\n",
      "      Epoch    GPU_mem   box_loss   cls_loss   dfl_loss  Instances       Size\n"
     ]
    },
    {
     "name": "stderr",
     "output_type": "stream",
     "text": [
      "      35/50         0G      1.322      1.091       1.71        334        640: 100%|██████████| 19/19 [02:07<00:00,  6.\n",
      "                 Class     Images  Instances      Box(P          R      mAP50  mAP50-95): 100%|██████████| 2/2 [00:08<0"
     ]
    },
    {
     "name": "stdout",
     "output_type": "stream",
     "text": [
      "                   all         60        812      0.805      0.849      0.871      0.567\n"
     ]
    },
    {
     "name": "stderr",
     "output_type": "stream",
     "text": [
      "\n"
     ]
    },
    {
     "name": "stdout",
     "output_type": "stream",
     "text": [
      "\n",
      "      Epoch    GPU_mem   box_loss   cls_loss   dfl_loss  Instances       Size\n"
     ]
    },
    {
     "name": "stderr",
     "output_type": "stream",
     "text": [
      "      36/50         0G      1.321      1.064      1.697        299        640: 100%|██████████| 19/19 [02:11<00:00,  6.\n",
      "                 Class     Images  Instances      Box(P          R      mAP50  mAP50-95): 100%|██████████| 2/2 [00:08<0"
     ]
    },
    {
     "name": "stdout",
     "output_type": "stream",
     "text": [
      "                   all         60        812      0.815      0.831      0.845      0.558\n"
     ]
    },
    {
     "name": "stderr",
     "output_type": "stream",
     "text": [
      "\n"
     ]
    },
    {
     "name": "stdout",
     "output_type": "stream",
     "text": [
      "\n",
      "      Epoch    GPU_mem   box_loss   cls_loss   dfl_loss  Instances       Size\n"
     ]
    },
    {
     "name": "stderr",
     "output_type": "stream",
     "text": [
      "      37/50         0G       1.32      1.086      1.689        302        640: 100%|██████████| 19/19 [02:14<00:00,  7.\n",
      "                 Class     Images  Instances      Box(P          R      mAP50  mAP50-95): 100%|██████████| 2/2 [00:08<0"
     ]
    },
    {
     "name": "stdout",
     "output_type": "stream",
     "text": [
      "                   all         60        812      0.769      0.827      0.852      0.549\n"
     ]
    },
    {
     "name": "stderr",
     "output_type": "stream",
     "text": [
      "\n"
     ]
    },
    {
     "name": "stdout",
     "output_type": "stream",
     "text": [
      "\n",
      "      Epoch    GPU_mem   box_loss   cls_loss   dfl_loss  Instances       Size\n"
     ]
    },
    {
     "name": "stderr",
     "output_type": "stream",
     "text": [
      "      38/50         0G      1.301      1.053      1.675        231        640: 100%|██████████| 19/19 [02:13<00:00,  7.\n",
      "                 Class     Images  Instances      Box(P          R      mAP50  mAP50-95): 100%|██████████| 2/2 [00:08<0"
     ]
    },
    {
     "name": "stdout",
     "output_type": "stream",
     "text": [
      "                   all         60        812       0.76      0.922      0.878      0.577\n"
     ]
    },
    {
     "name": "stderr",
     "output_type": "stream",
     "text": [
      "\n"
     ]
    },
    {
     "name": "stdout",
     "output_type": "stream",
     "text": [
      "\n",
      "      Epoch    GPU_mem   box_loss   cls_loss   dfl_loss  Instances       Size\n"
     ]
    },
    {
     "name": "stderr",
     "output_type": "stream",
     "text": [
      "      39/50         0G      1.316      1.057      1.693        279        640: 100%|██████████| 19/19 [02:12<00:00,  6.\n",
      "                 Class     Images  Instances      Box(P          R      mAP50  mAP50-95): 100%|██████████| 2/2 [00:07<0"
     ]
    },
    {
     "name": "stdout",
     "output_type": "stream",
     "text": [
      "                   all         60        812      0.797       0.87      0.878      0.571\n"
     ]
    },
    {
     "name": "stderr",
     "output_type": "stream",
     "text": [
      "\n"
     ]
    },
    {
     "name": "stdout",
     "output_type": "stream",
     "text": [
      "\n",
      "      Epoch    GPU_mem   box_loss   cls_loss   dfl_loss  Instances       Size\n"
     ]
    },
    {
     "name": "stderr",
     "output_type": "stream",
     "text": [
      "      40/50         0G      1.316      1.064      1.673        231        640: 100%|██████████| 19/19 [02:10<00:00,  6.\n",
      "                 Class     Images  Instances      Box(P          R      mAP50  mAP50-95): 100%|██████████| 2/2 [00:08<0"
     ]
    },
    {
     "name": "stdout",
     "output_type": "stream",
     "text": [
      "                   all         60        812      0.786      0.881      0.876       0.58\n"
     ]
    },
    {
     "name": "stderr",
     "output_type": "stream",
     "text": [
      "\n"
     ]
    },
    {
     "name": "stdout",
     "output_type": "stream",
     "text": [
      "Closing dataloader mosaic\n",
      "\n",
      "      Epoch    GPU_mem   box_loss   cls_loss   dfl_loss  Instances       Size\n"
     ]
    },
    {
     "name": "stderr",
     "output_type": "stream",
     "text": [
      "      41/50         0G      1.251      1.138       1.71        145        640: 100%|██████████| 19/19 [02:08<00:00,  6.\n",
      "                 Class     Images  Instances      Box(P          R      mAP50  mAP50-95): 100%|██████████| 2/2 [00:08<0"
     ]
    },
    {
     "name": "stdout",
     "output_type": "stream",
     "text": [
      "                   all         60        812      0.768      0.883      0.868      0.566\n"
     ]
    },
    {
     "name": "stderr",
     "output_type": "stream",
     "text": [
      "\n"
     ]
    },
    {
     "name": "stdout",
     "output_type": "stream",
     "text": [
      "\n",
      "      Epoch    GPU_mem   box_loss   cls_loss   dfl_loss  Instances       Size\n"
     ]
    },
    {
     "name": "stderr",
     "output_type": "stream",
     "text": [
      "      42/50         0G      1.216      1.074      1.658        149        640: 100%|██████████| 19/19 [02:07<00:00,  6.\n",
      "                 Class     Images  Instances      Box(P          R      mAP50  mAP50-95): 100%|██████████| 2/2 [00:09<0"
     ]
    },
    {
     "name": "stdout",
     "output_type": "stream",
     "text": [
      "                   all         60        812      0.805       0.87      0.884      0.577\n"
     ]
    },
    {
     "name": "stderr",
     "output_type": "stream",
     "text": [
      "\n"
     ]
    },
    {
     "name": "stdout",
     "output_type": "stream",
     "text": [
      "\n",
      "      Epoch    GPU_mem   box_loss   cls_loss   dfl_loss  Instances       Size\n"
     ]
    },
    {
     "name": "stderr",
     "output_type": "stream",
     "text": [
      "      43/50         0G      1.209      1.061      1.673        170        640: 100%|██████████| 19/19 [02:15<00:00,  7.\n",
      "                 Class     Images  Instances      Box(P          R      mAP50  mAP50-95): 100%|██████████| 2/2 [00:08<0"
     ]
    },
    {
     "name": "stdout",
     "output_type": "stream",
     "text": [
      "                   all         60        812       0.79      0.867      0.886      0.578\n"
     ]
    },
    {
     "name": "stderr",
     "output_type": "stream",
     "text": [
      "\n"
     ]
    },
    {
     "name": "stdout",
     "output_type": "stream",
     "text": [
      "\n",
      "      Epoch    GPU_mem   box_loss   cls_loss   dfl_loss  Instances       Size\n"
     ]
    },
    {
     "name": "stderr",
     "output_type": "stream",
     "text": [
      "      44/50         0G      1.199      1.043      1.642        145        640: 100%|██████████| 19/19 [02:04<00:00,  6.\n",
      "                 Class     Images  Instances      Box(P          R      mAP50  mAP50-95): 100%|██████████| 2/2 [00:09<0"
     ]
    },
    {
     "name": "stdout",
     "output_type": "stream",
     "text": [
      "                   all         60        812        0.8      0.878      0.878      0.577\n"
     ]
    },
    {
     "name": "stderr",
     "output_type": "stream",
     "text": [
      "\n"
     ]
    },
    {
     "name": "stdout",
     "output_type": "stream",
     "text": [
      "\n",
      "      Epoch    GPU_mem   box_loss   cls_loss   dfl_loss  Instances       Size\n"
     ]
    },
    {
     "name": "stderr",
     "output_type": "stream",
     "text": [
      "      45/50         0G      1.188      1.012      1.629        178        640: 100%|██████████| 19/19 [02:05<00:00,  6.\n",
      "                 Class     Images  Instances      Box(P          R      mAP50  mAP50-95): 100%|██████████| 2/2 [00:08<0"
     ]
    },
    {
     "name": "stdout",
     "output_type": "stream",
     "text": [
      "                   all         60        812      0.812       0.87      0.892      0.587\n"
     ]
    },
    {
     "name": "stderr",
     "output_type": "stream",
     "text": [
      "\n"
     ]
    },
    {
     "name": "stdout",
     "output_type": "stream",
     "text": [
      "\n",
      "      Epoch    GPU_mem   box_loss   cls_loss   dfl_loss  Instances       Size\n"
     ]
    },
    {
     "name": "stderr",
     "output_type": "stream",
     "text": [
      "      46/50         0G      1.183      1.017      1.626        137        640: 100%|██████████| 19/19 [02:06<00:00,  6.\n",
      "                 Class     Images  Instances      Box(P          R      mAP50  mAP50-95): 100%|██████████| 2/2 [00:09<0"
     ]
    },
    {
     "name": "stdout",
     "output_type": "stream",
     "text": [
      "                   all         60        812      0.794      0.887      0.882       0.58\n"
     ]
    },
    {
     "name": "stderr",
     "output_type": "stream",
     "text": [
      "\n"
     ]
    },
    {
     "name": "stdout",
     "output_type": "stream",
     "text": [
      "\n",
      "      Epoch    GPU_mem   box_loss   cls_loss   dfl_loss  Instances       Size\n"
     ]
    },
    {
     "name": "stderr",
     "output_type": "stream",
     "text": [
      "      47/50         0G      1.185          1       1.62        140        640: 100%|██████████| 19/19 [02:09<00:00,  6.\n",
      "                 Class     Images  Instances      Box(P          R      mAP50  mAP50-95): 100%|██████████| 2/2 [00:09<0"
     ]
    },
    {
     "name": "stdout",
     "output_type": "stream",
     "text": [
      "                   all         60        812      0.821      0.867       0.88      0.588\n"
     ]
    },
    {
     "name": "stderr",
     "output_type": "stream",
     "text": [
      "\n"
     ]
    },
    {
     "name": "stdout",
     "output_type": "stream",
     "text": [
      "\n",
      "      Epoch    GPU_mem   box_loss   cls_loss   dfl_loss  Instances       Size\n"
     ]
    },
    {
     "name": "stderr",
     "output_type": "stream",
     "text": [
      "      48/50         0G      1.172     0.9775      1.603        163        640: 100%|██████████| 19/19 [02:03<00:00,  6.\n",
      "                 Class     Images  Instances      Box(P          R      mAP50  mAP50-95): 100%|██████████| 2/2 [00:08<0"
     ]
    },
    {
     "name": "stdout",
     "output_type": "stream",
     "text": [
      "                   all         60        812      0.803      0.886      0.886      0.588\n"
     ]
    },
    {
     "name": "stderr",
     "output_type": "stream",
     "text": [
      "\n"
     ]
    },
    {
     "name": "stdout",
     "output_type": "stream",
     "text": [
      "\n",
      "      Epoch    GPU_mem   box_loss   cls_loss   dfl_loss  Instances       Size\n"
     ]
    },
    {
     "name": "stderr",
     "output_type": "stream",
     "text": [
      "      49/50         0G      1.176     0.9898      1.625        153        640: 100%|██████████| 19/19 [02:07<00:00,  6.\n",
      "                 Class     Images  Instances      Box(P          R      mAP50  mAP50-95): 100%|██████████| 2/2 [00:08<0"
     ]
    },
    {
     "name": "stdout",
     "output_type": "stream",
     "text": [
      "                   all         60        812      0.809      0.886      0.889      0.592\n"
     ]
    },
    {
     "name": "stderr",
     "output_type": "stream",
     "text": [
      "\n"
     ]
    },
    {
     "name": "stdout",
     "output_type": "stream",
     "text": [
      "\n",
      "      Epoch    GPU_mem   box_loss   cls_loss   dfl_loss  Instances       Size\n"
     ]
    },
    {
     "name": "stderr",
     "output_type": "stream",
     "text": [
      "      50/50         0G      1.182     0.9821       1.62        154        640: 100%|██████████| 19/19 [02:08<00:00,  6.\n",
      "                 Class     Images  Instances      Box(P          R      mAP50  mAP50-95): 100%|██████████| 2/2 [00:08<0"
     ]
    },
    {
     "name": "stdout",
     "output_type": "stream",
     "text": [
      "                   all         60        812      0.813      0.869      0.888      0.595\n"
     ]
    },
    {
     "name": "stderr",
     "output_type": "stream",
     "text": [
      "\n"
     ]
    },
    {
     "name": "stdout",
     "output_type": "stream",
     "text": [
      "\n",
      "50 epochs completed in 1.787 hours.\n",
      "Optimizer stripped from C:\\Users\\91955\\Fracture_Detection_Improved_YOLOv8\\runs\\detect\\train11\\weights\\last.pt, 6.2MB\n",
      "Optimizer stripped from C:\\Users\\91955\\Fracture_Detection_Improved_YOLOv8\\runs\\detect\\train11\\weights\\best.pt, 6.2MB\n",
      "\n",
      "Validating C:\\Users\\91955\\Fracture_Detection_Improved_YOLOv8\\runs\\detect\\train11\\weights\\best.pt...\n",
      "Ultralytics YOLOv8.1.42  Python-3.11.4 torch-2.2.0+cpu CPU (11th Gen Intel Core(TM) i5-11320H 3.20GHz)\n",
      "YOLOv8n summary (fused): 168 layers, 3006233 parameters, 0 gradients, 8.1 GFLOPs\n"
     ]
    },
    {
     "name": "stderr",
     "output_type": "stream",
     "text": [
      "                 Class     Images  Instances      Box(P          R      mAP50  mAP50-95): 100%|██████████| 2/2 [00:06<0\n"
     ]
    },
    {
     "name": "stdout",
     "output_type": "stream",
     "text": [
      "                   all         60        812      0.814      0.869      0.888      0.595\n",
      "                   RBC         60        700      0.735      0.724      0.816      0.571\n",
      "                   WBC         60         63      0.985      0.984      0.987      0.776\n",
      "             Platelets         60         49      0.722      0.898      0.863      0.438\n",
      "Speed: 2.1ms preprocess, 93.2ms inference, 0.0ms loss, 0.8ms postprocess per image\n",
      "Results saved to \u001b[1mC:\\Users\\91955\\Fracture_Detection_Improved_YOLOv8\\runs\\detect\\train11\u001b[0m\n"
     ]
    }
   ],
   "source": [
    "import os\n",
    "from ultralytics import YOLO\n",
    "\n",
    "# Define the ROOT_DIR\n",
    "ROOT_DIR = r'C:\\Users\\91955\\Downloads\\Complete-Blood-Cell-Count-Dataset-master'\n",
    "\n",
    "# Define the path to your YAML file\n",
    "data_yaml = os.path.join(ROOT_DIR, \"data.yaml\")\n",
    "\n",
    "# Load and train the YOLO model\n",
    "model = YOLO(\"yolov8n.yaml\")\n",
    "result = model.train(data=data_yaml, epochs=50)\n"
   ]
  },
  {
   "cell_type": "code",
   "execution_count": 3,
   "id": "cb5f4295-9aac-4b45-9c43-5063b7a94865",
   "metadata": {},
   "outputs": [
    {
     "name": "stdout",
     "output_type": "stream",
     "text": [
      "Ultralytics YOLOv8.1.42 ðŸš€ Python-3.11.4 torch-2.2.0+cpu CPU (11th Gen Intel Core(TM) i5-11320H 3.20GHz)\n",
      "YOLOv8n summary (fused): 168 layers, 3006233 parameters, 0 gradients, 8.1 GFLOPs\n",
      "\n",
      "image 1/60 C:\\Users\\91955\\Downloads\\Complete-Blood-Cell-Count-Dataset-master\\test\\images\\BloodImage_00339.jpg: 480x640 20 RBCs, 1 WBC, 2 Plateletss, 91.3ms\n",
      "image 2/60 C:\\Users\\91955\\Downloads\\Complete-Blood-Cell-Count-Dataset-master\\test\\images\\BloodImage_00340.jpg: 480x640 17 RBCs, 1 WBC, 1 Platelets, 52.7ms\n",
      "image 3/60 C:\\Users\\91955\\Downloads\\Complete-Blood-Cell-Count-Dataset-master\\test\\images\\BloodImage_00343.jpg: 480x640 20 RBCs, 1 WBC, 2 Plateletss, 71.6ms\n",
      "image 4/60 C:\\Users\\91955\\Downloads\\Complete-Blood-Cell-Count-Dataset-master\\test\\images\\BloodImage_00344.jpg: 480x640 14 RBCs, 1 WBC, 1 Platelets, 60.7ms\n",
      "image 5/60 C:\\Users\\91955\\Downloads\\Complete-Blood-Cell-Count-Dataset-master\\test\\images\\BloodImage_00345.jpg: 480x640 21 RBCs, 1 WBC, 71.7ms\n",
      "image 6/60 C:\\Users\\91955\\Downloads\\Complete-Blood-Cell-Count-Dataset-master\\test\\images\\BloodImage_00346.jpg: 480x640 18 RBCs, 1 WBC, 71.1ms\n",
      "image 7/60 C:\\Users\\91955\\Downloads\\Complete-Blood-Cell-Count-Dataset-master\\test\\images\\BloodImage_00347.jpg: 480x640 24 RBCs, 1 WBC, 76.9ms\n",
      "image 8/60 C:\\Users\\91955\\Downloads\\Complete-Blood-Cell-Count-Dataset-master\\test\\images\\BloodImage_00348.jpg: 480x640 20 RBCs, 2 WBCs, 70.1ms\n",
      "image 9/60 C:\\Users\\91955\\Downloads\\Complete-Blood-Cell-Count-Dataset-master\\test\\images\\BloodImage_00349.jpg: 480x640 24 RBCs, 1 WBC, 1 Platelets, 71.3ms\n",
      "image 10/60 C:\\Users\\91955\\Downloads\\Complete-Blood-Cell-Count-Dataset-master\\test\\images\\BloodImage_00351.jpg: 480x640 22 RBCs, 1 WBC, 2 Plateletss, 70.6ms\n",
      "image 11/60 C:\\Users\\91955\\Downloads\\Complete-Blood-Cell-Count-Dataset-master\\test\\images\\BloodImage_00352.jpg: 480x640 21 RBCs, 1 WBC, 60.7ms\n",
      "image 12/60 C:\\Users\\91955\\Downloads\\Complete-Blood-Cell-Count-Dataset-master\\test\\images\\BloodImage_00353.jpg: 480x640 20 RBCs, 1 WBC, 56.6ms\n",
      "image 13/60 C:\\Users\\91955\\Downloads\\Complete-Blood-Cell-Count-Dataset-master\\test\\images\\BloodImage_00354.jpg: 480x640 18 RBCs, 1 WBC, 1 Platelets, 71.1ms\n",
      "image 14/60 C:\\Users\\91955\\Downloads\\Complete-Blood-Cell-Count-Dataset-master\\test\\images\\BloodImage_00355.jpg: 480x640 20 RBCs, 1 WBC, 3 Plateletss, 71.1ms\n",
      "image 15/60 C:\\Users\\91955\\Downloads\\Complete-Blood-Cell-Count-Dataset-master\\test\\images\\BloodImage_00356.jpg: 480x640 26 RBCs, 1 WBC, 1 Platelets, 68.4ms\n",
      "image 16/60 C:\\Users\\91955\\Downloads\\Complete-Blood-Cell-Count-Dataset-master\\test\\images\\BloodImage_00357.jpg: 480x640 20 RBCs, 1 WBC, 70.7ms\n",
      "image 17/60 C:\\Users\\91955\\Downloads\\Complete-Blood-Cell-Count-Dataset-master\\test\\images\\BloodImage_00359.jpg: 480x640 19 RBCs, 1 WBC, 1 Platelets, 71.6ms\n",
      "image 18/60 C:\\Users\\91955\\Downloads\\Complete-Blood-Cell-Count-Dataset-master\\test\\images\\BloodImage_00360.jpg: 480x640 18 RBCs, 1 WBC, 1 Platelets, 81.2ms\n",
      "image 19/60 C:\\Users\\91955\\Downloads\\Complete-Blood-Cell-Count-Dataset-master\\test\\images\\BloodImage_00361.jpg: 480x640 21 RBCs, 1 WBC, 1 Platelets, 66.8ms\n",
      "image 20/60 C:\\Users\\91955\\Downloads\\Complete-Blood-Cell-Count-Dataset-master\\test\\images\\BloodImage_00362.jpg: 480x640 21 RBCs, 1 WBC, 80.3ms\n",
      "image 21/60 C:\\Users\\91955\\Downloads\\Complete-Blood-Cell-Count-Dataset-master\\test\\images\\BloodImage_00364.jpg: 480x640 21 RBCs, 1 WBC, 1 Platelets, 78.8ms\n",
      "image 22/60 C:\\Users\\91955\\Downloads\\Complete-Blood-Cell-Count-Dataset-master\\test\\images\\BloodImage_00365.jpg: 480x640 20 RBCs, 1 WBC, 3 Plateletss, 80.7ms\n",
      "image 23/60 C:\\Users\\91955\\Downloads\\Complete-Blood-Cell-Count-Dataset-master\\test\\images\\BloodImage_00366.jpg: 480x640 16 RBCs, 1 WBC, 1 Platelets, 74.2ms\n",
      "image 24/60 C:\\Users\\91955\\Downloads\\Complete-Blood-Cell-Count-Dataset-master\\test\\images\\BloodImage_00367.jpg: 480x640 19 RBCs, 1 WBC, 1 Platelets, 74.3ms\n",
      "image 25/60 C:\\Users\\91955\\Downloads\\Complete-Blood-Cell-Count-Dataset-master\\test\\images\\BloodImage_00368.jpg: 480x640 25 RBCs, 1 WBC, 72.1ms\n",
      "image 26/60 C:\\Users\\91955\\Downloads\\Complete-Blood-Cell-Count-Dataset-master\\test\\images\\BloodImage_00369.jpg: 480x640 20 RBCs, 1 WBC, 2 Plateletss, 60.8ms\n",
      "image 27/60 C:\\Users\\91955\\Downloads\\Complete-Blood-Cell-Count-Dataset-master\\test\\images\\BloodImage_00370.jpg: 480x640 20 RBCs, 1 WBC, 61.1ms\n",
      "image 28/60 C:\\Users\\91955\\Downloads\\Complete-Blood-Cell-Count-Dataset-master\\test\\images\\BloodImage_00371.jpg: 480x640 18 RBCs, 1 WBC, 61.2ms\n",
      "image 29/60 C:\\Users\\91955\\Downloads\\Complete-Blood-Cell-Count-Dataset-master\\test\\images\\BloodImage_00372.jpg: 480x640 17 RBCs, 1 WBC, 61.7ms\n",
      "image 30/60 C:\\Users\\91955\\Downloads\\Complete-Blood-Cell-Count-Dataset-master\\test\\images\\BloodImage_00374.jpg: 480x640 13 RBCs, 2 WBCs, 70.9ms\n",
      "image 31/60 C:\\Users\\91955\\Downloads\\Complete-Blood-Cell-Count-Dataset-master\\test\\images\\BloodImage_00375.jpg: 480x640 16 RBCs, 1 WBC, 2 Plateletss, 63.2ms\n",
      "image 32/60 C:\\Users\\91955\\Downloads\\Complete-Blood-Cell-Count-Dataset-master\\test\\images\\BloodImage_00376.jpg: 480x640 17 RBCs, 1 WBC, 61.1ms\n",
      "image 33/60 C:\\Users\\91955\\Downloads\\Complete-Blood-Cell-Count-Dataset-master\\test\\images\\BloodImage_00377.jpg: 480x640 17 RBCs, 1 WBC, 3 Plateletss, 61.4ms\n",
      "image 34/60 C:\\Users\\91955\\Downloads\\Complete-Blood-Cell-Count-Dataset-master\\test\\images\\BloodImage_00378.jpg: 480x640 25 RBCs, 1 WBC, 2 Plateletss, 71.6ms\n",
      "image 35/60 C:\\Users\\91955\\Downloads\\Complete-Blood-Cell-Count-Dataset-master\\test\\images\\BloodImage_00379.jpg: 480x640 24 RBCs, 1 WBC, 1 Platelets, 72.1ms\n",
      "image 36/60 C:\\Users\\91955\\Downloads\\Complete-Blood-Cell-Count-Dataset-master\\test\\images\\BloodImage_00381.jpg: 480x640 24 RBCs, 1 WBC, 58.1ms\n",
      "image 37/60 C:\\Users\\91955\\Downloads\\Complete-Blood-Cell-Count-Dataset-master\\test\\images\\BloodImage_00382.jpg: 480x640 18 RBCs, 1 WBC, 2 Plateletss, 51.1ms\n",
      "image 38/60 C:\\Users\\91955\\Downloads\\Complete-Blood-Cell-Count-Dataset-master\\test\\images\\BloodImage_00383.jpg: 480x640 9 RBCs, 3 Plateletss, 61.3ms\n",
      "image 39/60 C:\\Users\\91955\\Downloads\\Complete-Blood-Cell-Count-Dataset-master\\test\\images\\BloodImage_00384.jpg: 480x640 12 RBCs, 1 WBC, 67.4ms\n",
      "image 40/60 C:\\Users\\91955\\Downloads\\Complete-Blood-Cell-Count-Dataset-master\\test\\images\\BloodImage_00385.jpg: 480x640 19 RBCs, 1 WBC, 3 Plateletss, 67.3ms\n",
      "image 41/60 C:\\Users\\91955\\Downloads\\Complete-Blood-Cell-Count-Dataset-master\\test\\images\\BloodImage_00386.jpg: 480x640 16 RBCs, 1 WBC, 74.1ms\n",
      "image 42/60 C:\\Users\\91955\\Downloads\\Complete-Blood-Cell-Count-Dataset-master\\test\\images\\BloodImage_00387.jpg: 480x640 13 RBCs, 1 WBC, 2 Plateletss, 71.4ms\n",
      "image 43/60 C:\\Users\\91955\\Downloads\\Complete-Blood-Cell-Count-Dataset-master\\test\\images\\BloodImage_00388.jpg: 480x640 16 RBCs, 1 WBC, 70.5ms\n",
      "image 44/60 C:\\Users\\91955\\Downloads\\Complete-Blood-Cell-Count-Dataset-master\\test\\images\\BloodImage_00390.jpg: 480x640 12 RBCs, 1 WBC, 76.9ms\n",
      "image 45/60 C:\\Users\\91955\\Downloads\\Complete-Blood-Cell-Count-Dataset-master\\test\\images\\BloodImage_00391.jpg: 480x640 18 RBCs, 1 WBC, 1 Platelets, 63.6ms\n",
      "image 46/60 C:\\Users\\91955\\Downloads\\Complete-Blood-Cell-Count-Dataset-master\\test\\images\\BloodImage_00392.jpg: 480x640 15 RBCs, 1 WBC, 1 Platelets, 72.3ms\n",
      "image 47/60 C:\\Users\\91955\\Downloads\\Complete-Blood-Cell-Count-Dataset-master\\test\\images\\BloodImage_00393.jpg: 480x640 15 RBCs, 1 WBC, 60.9ms\n",
      "image 48/60 C:\\Users\\91955\\Downloads\\Complete-Blood-Cell-Count-Dataset-master\\test\\images\\BloodImage_00395.jpg: 480x640 20 RBCs, 1 WBC, 2 Plateletss, 61.0ms\n",
      "image 49/60 C:\\Users\\91955\\Downloads\\Complete-Blood-Cell-Count-Dataset-master\\test\\images\\BloodImage_00396.jpg: 480x640 22 RBCs, 1 WBC, 2 Plateletss, 68.7ms\n",
      "image 50/60 C:\\Users\\91955\\Downloads\\Complete-Blood-Cell-Count-Dataset-master\\test\\images\\BloodImage_00397.jpg: 480x640 24 RBCs, 1 WBC, 71.6ms\n",
      "image 51/60 C:\\Users\\91955\\Downloads\\Complete-Blood-Cell-Count-Dataset-master\\test\\images\\BloodImage_00398.jpg: 480x640 18 RBCs, 1 WBC, 82.2ms\n",
      "image 52/60 C:\\Users\\91955\\Downloads\\Complete-Blood-Cell-Count-Dataset-master\\test\\images\\BloodImage_00400.jpg: 480x640 20 RBCs, 1 WBC, 63.3ms\n",
      "image 53/60 C:\\Users\\91955\\Downloads\\Complete-Blood-Cell-Count-Dataset-master\\test\\images\\BloodImage_00402.jpg: 480x640 21 RBCs, 1 WBC, 1 Platelets, 68.0ms\n",
      "image 54/60 C:\\Users\\91955\\Downloads\\Complete-Blood-Cell-Count-Dataset-master\\test\\images\\BloodImage_00403.jpg: 480x640 20 RBCs, 1 WBC, 2 Plateletss, 67.2ms\n",
      "image 55/60 C:\\Users\\91955\\Downloads\\Complete-Blood-Cell-Count-Dataset-master\\test\\images\\BloodImage_00404.jpg: 480x640 17 RBCs, 1 WBC, 1 Platelets, 55.6ms\n",
      "image 56/60 C:\\Users\\91955\\Downloads\\Complete-Blood-Cell-Count-Dataset-master\\test\\images\\BloodImage_00405.jpg: 480x640 16 RBCs, 1 WBC, 1 Platelets, 51.6ms\n",
      "image 57/60 C:\\Users\\91955\\Downloads\\Complete-Blood-Cell-Count-Dataset-master\\test\\images\\BloodImage_00407.jpg: 480x640 18 RBCs, 1 WBC, 4 Plateletss, 44.5ms\n",
      "image 58/60 C:\\Users\\91955\\Downloads\\Complete-Blood-Cell-Count-Dataset-master\\test\\images\\BloodImage_00408.jpg: 480x640 20 RBCs, 1 WBC, 2 Plateletss, 47.3ms\n",
      "image 59/60 C:\\Users\\91955\\Downloads\\Complete-Blood-Cell-Count-Dataset-master\\test\\images\\BloodImage_00409.jpg: 480x640 19 RBCs, 1 WBC, 4 Plateletss, 63.9ms\n",
      "image 60/60 C:\\Users\\91955\\Downloads\\Complete-Blood-Cell-Count-Dataset-master\\test\\images\\BloodImage_00410.jpg: 480x640 21 RBCs, 1 WBC, 4 Plateletss, 51.1ms\n",
      "Speed: 2.1ms preprocess, 67.0ms inference, 0.6ms postprocess per image at shape (1, 3, 480, 640)\n",
      "Results saved to \u001b[1mC:\\Users\\91955\\Fracture_Detection_Improved_YOLOv8\\runs\\detect\\predict9\u001b[0m\n",
      "ðŸ’¡ Learn more at https://docs.ultralytics.com/modes/predict\n"
     ]
    }
   ],
   "source": [
    "!yolo task=detect mode=predict model=Fracture_Detection_Improved_YOLOv8/runs/detect/train11/weights/best.pt conf=0.25 source=C:\\Users\\91955\\Downloads\\Complete-Blood-Cell-Count-Dataset-master\\test\\images\n"
   ]
  }
 ],
 "metadata": {
  "kernelspec": {
   "display_name": "Python 3 (ipykernel)",
   "language": "python",
   "name": "python3"
  },
  "language_info": {
   "codemirror_mode": {
    "name": "ipython",
    "version": 3
   },
   "file_extension": ".py",
   "mimetype": "text/x-python",
   "name": "python",
   "nbconvert_exporter": "python",
   "pygments_lexer": "ipython3",
   "version": "3.11.4"
  }
 },
 "nbformat": 4,
 "nbformat_minor": 5
}
